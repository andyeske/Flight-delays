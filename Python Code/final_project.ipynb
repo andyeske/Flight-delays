{
 "cells": [
  {
   "cell_type": "code",
   "execution_count": 6,
   "id": "1b3b9ef3",
   "metadata": {},
   "outputs": [],
   "source": [
    "import pandas as pd\n",
    "import numpy as np\n",
    "import matplotlib.pyplot as plt\n",
    "from scipy.stats import ttest_1samp\n",
    "from typing import Tuple\n",
    "from scipy.stats import t\n",
    "from flight_delay_utils import *"
   ]
  },
  {
   "cell_type": "code",
   "execution_count": 7,
   "id": "faa80b24",
   "metadata": {},
   "outputs": [
    {
     "data": {
      "text/html": [
       "<style>.container { width:80 !important; }</style>"
      ],
      "text/plain": [
       "<IPython.core.display.HTML object>"
      ]
     },
     "metadata": {},
     "output_type": "display_data"
    }
   ],
   "source": [
    "from IPython.display import display, HTML\n",
    "\n",
    "display(HTML(\"<style>.container { width:80 !important; }</style>\"))"
   ]
  },
  {
   "cell_type": "code",
   "execution_count": 8,
   "id": "d258efa3",
   "metadata": {},
   "outputs": [],
   "source": [
    "df = pd.read_csv(\"../T_ONTIME_REPORTING.csv\")"
   ]
  },
  {
   "cell_type": "code",
   "execution_count": 9,
   "id": "81058fd6",
   "metadata": {},
   "outputs": [
    {
     "data": {
      "text/plain": [
       "Index(['YEAR', 'QUARTER', 'MONTH', 'DAY_OF_MONTH', 'DAY_OF_WEEK',\n",
       "       'OP_UNIQUE_CARRIER', 'TAIL_NUM', 'ORIGIN_AIRPORT_ID',\n",
       "       'ORIGIN_AIRPORT_SEQ_ID', 'ORIGIN_CITY_MARKET_ID', 'ORIGIN',\n",
       "       'DEST_AIRPORT_ID', 'DEST_AIRPORT_SEQ_ID', 'DEST_CITY_MARKET_ID', 'DEST',\n",
       "       'CRS_DEP_TIME', 'DEP_TIME', 'DEP_DELAY', 'DEP_DELAY_NEW', 'DEP_DEL15',\n",
       "       'TAXI_OUT', 'WHEELS_OFF', 'WHEELS_ON', 'TAXI_IN', 'CRS_ARR_TIME',\n",
       "       'ARR_TIME', 'ARR_DELAY', 'ARR_DELAY_NEW', 'ARR_DEL15',\n",
       "       'CRS_ELAPSED_TIME', 'ACTUAL_ELAPSED_TIME', 'AIR_TIME', 'DISTANCE'],\n",
       "      dtype='object')"
      ]
     },
     "execution_count": 9,
     "metadata": {},
     "output_type": "execute_result"
    }
   ],
   "source": [
    "df.columns"
   ]
  },
  {
   "cell_type": "code",
   "execution_count": 10,
   "id": "34296965",
   "metadata": {
    "scrolled": false
   },
   "outputs": [
    {
     "ename": "NameError",
     "evalue": "name 'get_delays' is not defined",
     "output_type": "error",
     "traceback": [
      "\u001b[0;31m---------------------------------------------------------------------------\u001b[0m",
      "\u001b[0;31mNameError\u001b[0m                                 Traceback (most recent call last)",
      "Cell \u001b[0;32mIn[10], line 5\u001b[0m\n\u001b[1;32m      1\u001b[0m destinations \u001b[38;5;241m=\u001b[39m df\u001b[38;5;241m.\u001b[39mDEST\u001b[38;5;241m.\u001b[39munique()\n\u001b[1;32m      2\u001b[0m origins \u001b[38;5;241m=\u001b[39m df\u001b[38;5;241m.\u001b[39mORIGIN\u001b[38;5;241m.\u001b[39munique()\n\u001b[0;32m----> 5\u001b[0m mean_arr, std_arr \u001b[38;5;241m=\u001b[39m \u001b[43mget_delays\u001b[49m(df, destinations, origins)\n\u001b[1;32m      6\u001b[0m mean_dep, _ \u001b[38;5;241m=\u001b[39m get_delays(df, destinations, origins, delay_type\u001b[38;5;241m=\u001b[39m\u001b[38;5;124m\"\u001b[39m\u001b[38;5;124mDEP_DELAY\u001b[39m\u001b[38;5;124m\"\u001b[39m)\n\u001b[1;32m      7\u001b[0m mean_flight \u001b[38;5;241m=\u001b[39m mean_dep\u001b[38;5;241m-\u001b[39mmean_arr\n",
      "\u001b[0;31mNameError\u001b[0m: name 'get_delays' is not defined"
     ]
    }
   ],
   "source": [
    "destinations = df.DEST.unique()\n",
    "origins = df.ORIGIN.unique()\n",
    "\n",
    "\n",
    "mean_arr, std_arr = get_delays(df, destinations, origins)\n",
    "mean_dep, _ = get_delays(df, destinations, origins, delay_type=\"DEP_DELAY\")\n",
    "mean_flight = mean_dep-mean_arr\n",
    "std_delay_diff = get_delay_statistics(df, destinations, origins)\n",
    "sample_size = df.groupby(['ORIGIN', 'DEST']).size().unstack(fill_value=0)"
   ]
  },
  {
   "cell_type": "code",
   "execution_count": null,
   "id": "04904b8a",
   "metadata": {},
   "outputs": [],
   "source": [
    "mean_arr\n",
    "std_arr"
   ]
  },
  {
   "cell_type": "code",
   "execution_count": null,
   "id": "c40b0b2c",
   "metadata": {},
   "outputs": [],
   "source": [
    "tail_numbers = df.TAIL_NUM.unique()\n",
    "keys = [\"DEST\", \"ORIGIN\", \"ARR_TIME\", \"DAY_OF_MONTH\"]\n",
    "\n",
    "airport_names = df.DEST.unique()\n",
    "airport_data = {}\n",
    "for name in airport_names:\n",
    "    airport_data[name] = []\n",
    "\n",
    "print(len(tail_numbers))\n",
    "for i, number in enumerate(tail_numbers):\n",
    "    all_flights = df[df.loc[:, \"TAIL_NUM\"] == number]\n",
    "    old_flight = pd.Series({\"DEST\": [np.NaN, np.NaN]})\n",
    "    for month in all_flights.MONTH.unique():\n",
    "        month_flights = all_flights[all_flights.loc[:, \"MONTH\"] == month]\n",
    "        for day in month_flights.DAY_OF_MONTH.unique():\n",
    "            flights = month_flights[month_flights.loc[:, \"DAY_OF_MONTH\"] == day]\n",
    "            flights = flights.sort_values(by=\"ARR_TIME\")\n",
    "            for _, flight in flights.iterrows():\n",
    "                if old_flight.DEST == flight.ORIGIN:\n",
    "                    airport_data[flight.ORIGIN].append(flight.DEP_DELAY - flight.ARR_DELAY)\n",
    "                old_flight = flight"
   ]
  },
  {
   "cell_type": "code",
   "execution_count": null,
   "id": "1ee11ffd",
   "metadata": {},
   "outputs": [],
   "source": [
    "\n",
    "\n",
    "\n",
    "# Create a new DataFrame to store the sampled values\n",
    "flights_df = mean_flight.copy()\n",
    "first_df = mean_flight.copy()\n",
    "\n",
    "\n",
    "# Apply the sampling function to each element\n",
    "for origin in flights_df.index:\n",
    "    for dest in flights_df.columns:\n",
    "        mean = mean_flight.at[dest, origin]\n",
    "        std = std_delay_diff.at[dest, origin]\n",
    "        n = sample_size.at[dest, origin]\n",
    "        flights_df.at[dest, origin] = lambda size, mean=mean, std=std, n=n : t.rvs(n-1, mean, std, size=size)\n",
    "        \n",
    "        mean = mean_arr.at[dest, origin]\n",
    "        std = std_arr.at[dest, origin]\n",
    "        first_df.at[dest, origin] = lambda size, mean=mean, std=std, n=n : t.rvs(n-1, mean, std, size=size)"
   ]
  },
  {
   "cell_type": "code",
   "execution_count": null,
   "id": "fda40a73",
   "metadata": {},
   "outputs": [],
   "source": [
    "first_df.at[\"BOS\", \"JFK\"](1)\n",
    "# t.rvs(0, mean, n, size=1)\n",
    "\n",
    "# for origin in origins:\n",
    "#     for dest in destinations:\n",
    "#         ans = first_df.at[dest, origin](1)\n",
    "#         print(ans)\n",
    "#         if ans is not np.NaN:\n",
    "#             print(ans)"
   ]
  },
  {
   "cell_type": "code",
   "execution_count": null,
   "id": "60fa2828",
   "metadata": {},
   "outputs": [],
   "source": [
    "ground = []\n",
    "for airport in airport_data.keys():\n",
    "    ground.extend(airport_data[airport])\n",
    "arr = np.array(ground)\n",
    "ground_mean = np.mean(arr[~np.isnan(arr)])\n",
    "\n",
    "\n",
    "means = {}\n",
    "std = {}\n",
    "functions = {}\n",
    "for airport in airport_data.keys():\n",
    "    arr = np.array(airport_data[airport])\n",
    "    clean_arr = arr[~np.isnan(arr)]\n",
    "    if clean_arr.size > 0 :\n",
    "        _, p_value = ttest_1samp(clean_arr, ground_mean)\n",
    "        if p_value < 0.05:\n",
    "            means[airport] = np.mean(clean_arr)\n",
    "        else:\n",
    "            means[airport] = ground_mean\n",
    "        std[airport] = np.std(clean_arr)\n",
    "        df, loc, scale = t.fit(clean_arr)\n",
    "        functions[airport]  = lambda size: t.rvs(df, loc, scale, size=size) \n",
    "        # print(f\"Airport = {airport}, delay = {functions[airport](1)}\")\n",
    "    else:\n",
    "        means[airport] = ground_mean\n",
    "\n",
    "# means_series = pd.Series(means)\n",
    "# # Sorting the series in descending order by value\n",
    "# sorted_means = means_series.sort_values(ascending=False)\n",
    "\n",
    "# # Selecting the top 20 entries\n",
    "# top_20_airports = sorted_means.tail(20)\n",
    "\n",
    "# # Plotting\n",
    "# plt.figure(figsize=(12, 6))  # Larger figure size for clarity\n",
    "# top_20_airports.plot(kind='bar', color='teal')  # Using a different color for distinction\n",
    "# plt.title('Top 20 Airports by Average Value')\n",
    "# plt.xlabel('Airport')\n",
    "# plt.ylabel('Added Delay (Minutes)')\n",
    "# plt.xticks(rotation=45)  # Rotate the labels to fit them nicely\n",
    "# plt.tight_layout()  # Adjust subplots\n",
    "# plt.show()"
   ]
  },
  {
   "cell_type": "code",
   "execution_count": null,
   "id": "da91e0e3",
   "metadata": {},
   "outputs": [],
   "source": [
    "path = [\"BOS\", \"JFK\", \"MIA\"]\n",
    "\n",
    "initial_state = 0\n",
    "delay = distribution_delay(path, flights_df, first_df, functions, int(3e3), initial_state = initial_state)\n",
    "delay2 = distribution_delay(path, flights_df, first_df, functions, int(3e3))\n",
    "expected_delay = calculate_expected_delay(path, means, mean_arr, mean_flight)\n",
    "\n",
    "plt.rcParams['font.family'] = 'serif'\n",
    "plt.rcParams['font.size'] = 15\n",
    "\n",
    "path_label = path[0]\n",
    "for i, airport in enumerate(path):\n",
    "    if i != 0:\n",
    "        path_label += ' -> ' + airport\n",
    "# Plotting the histogram with a vertical line at the mean\n",
    "\n",
    "fig, (ax0, ax1) = plt.subplots(2, 1, sharex = True, figsize=(6, 9))\n",
    "ax0.hist(delay, bins=50, alpha=0.5, color='blue', edgecolor='navy')\n",
    "ax0.axvline(np.mean(delay), color='red', linestyle='dashed', linewidth=3, label=f\"mean: {np.round(np.mean(delay))}\")\n",
    "ax0.set_ylabel('Frequency')\n",
    "ax0.legend()\n",
    "ax1.hist(delay2, bins=50, alpha=0.5, color='blue', edgecolor='navy')\n",
    "ax1.axvline(np.mean(delay2), color='red', linestyle='dashed', linewidth=3, label=f\"mean: {np.round(np.mean(delay2))}\")\n",
    "ax1.set_xlabel('Delay (minutes)')\n",
    "ax1.set_ylabel('Frequency')\n",
    "ax1.legend()\n",
    "plt.tight_layout\n",
    "plt.show()"
   ]
  },
  {
   "cell_type": "code",
   "execution_count": null,
   "id": "0abdf1d0",
   "metadata": {},
   "outputs": [],
   "source": [
    "for dest in destinations:\n",
    "    for origin in origins:\n",
    "        print(first_df.at[dest, origin](1))\n"
   ]
  },
  {
   "cell_type": "code",
   "execution_count": null,
   "id": "93572b4f",
   "metadata": {
    "scrolled": true
   },
   "outputs": [],
   "source": [
    "ground = []\n",
    "for airport in airport_data.keys():\n",
    "    ground.extend(airport_data[airport])\n",
    "arr = np.array(ground)\n",
    "ground_mean = np.mean(arr[~np.isnan(arr)])\n",
    "print(ground_mean)"
   ]
  },
  {
   "cell_type": "code",
   "execution_count": null,
   "id": "425870f0",
   "metadata": {},
   "outputs": [],
   "source": [
    "flight_delays = (df.ARR_DELAY - df.DEP_DELAY).dropna()\n",
    "_, p_value = ttest_1samp(flight_delays, - ground_mean)\n",
    "print(f\"{100 * (1 - p_value)}\")"
   ]
  },
  {
   "cell_type": "code",
   "execution_count": null,
   "id": "c0d679c9",
   "metadata": {},
   "outputs": [],
   "source": [
    "destinations = df.DEST.unique()\n",
    "origins = df.ORIGIN.unique()\n",
    "\n",
    "days = df.DAY_OF_WEEK.unique()\n",
    "M_days = {}\n",
    "P_days = {}\n",
    "day_name = {1: \"MON\",\n",
    "            2: \"TUE\",\n",
    "            3: \"WED\",\n",
    "            4: \"THU\",\n",
    "            5: \"FRI\",\n",
    "            6: \"SAT\",\n",
    "            7: \"SUN\"\n",
    "           }\n",
    "for day in days:\n",
    "    day = day_name[day]\n",
    "    M, P = get_m_p(df.loc[df.DAY_OF_WEEK==day], destinations, origins)\n",
    "    M_days[day] = M\n",
    "    P_days[day] = P\n",
    "print(M_days)\n",
    "print(P_days)"
   ]
  },
  {
   "cell_type": "code",
   "execution_count": null,
   "id": "551d5e66",
   "metadata": {},
   "outputs": [],
   "source": [
    "U_M, Sigma_M, VT_M = np.linalg.svd(M)\n",
    "U_P, Sigma_P, VT_P= np.linalg.svd(P)\n",
    "U_P[:, 0] * Sigma_P[0] @ VT_P[0,:]"
   ]
  },
  {
   "cell_type": "code",
   "execution_count": null,
   "id": "c6317f32",
   "metadata": {
    "scrolled": false
   },
   "outputs": [],
   "source": [
    "destinations = df.DEST.unique()\n",
    "origins = df.ORIGIN.unique()\n",
    "\n",
    "get_influences(M)"
   ]
  },
  {
   "cell_type": "code",
   "execution_count": null,
   "id": "4a0ac1d1",
   "metadata": {},
   "outputs": [],
   "source": [
    "U_P"
   ]
  },
  {
   "cell_type": "code",
   "execution_count": null,
   "id": "77a6f7c7",
   "metadata": {},
   "outputs": [],
   "source": []
  },
  {
   "cell_type": "code",
   "execution_count": null,
   "id": "3f4fccd7",
   "metadata": {},
   "outputs": [],
   "source": [
    "tail_numbers = df.TAIL_NUM.unique()\n",
    "\n",
    "for number in tail_numbers:\n",
    "    flights = df[df.loc[:, \"TAIL_NUM\"] == tail_1.loc[:, [\"MONTH\", \"DAY_OF_MONTH\", \"DAY_OF_WEEK\", \"ORIGIN\", \"DEST\", \"CRS_ARR_TIME\"]]\n",
    "    \n",
    "\n",
    "\n",
    "df[df.loc[:, \"TAIL_NUM\"] == tail_1.loc[:, [\"MONTH\", \"DAY_OF_MONTH\", \"DAY_OF_WEEK\", \"ORIGIN\", \"DEST\", \"CRS_ARR_TIME\"]]"
   ]
  },
  {
   "cell_type": "code",
   "execution_count": null,
   "id": "67adfa52",
   "metadata": {},
   "outputs": [],
   "source": []
  }
 ],
 "metadata": {
  "kernelspec": {
   "display_name": "Python 3 (ipykernel)",
   "language": "python",
   "name": "python3"
  },
  "language_info": {
   "codemirror_mode": {
    "name": "ipython",
    "version": 3
   },
   "file_extension": ".py",
   "mimetype": "text/x-python",
   "name": "python",
   "nbconvert_exporter": "python",
   "pygments_lexer": "ipython3",
   "version": "3.10.9"
  }
 },
 "nbformat": 4,
 "nbformat_minor": 5
}
